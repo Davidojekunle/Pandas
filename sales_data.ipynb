{
 "cells": [
  {
   "cell_type": "code",
   "execution_count": 3,
   "metadata": {},
   "outputs": [],
   "source": [
    "import pandas as pd\n",
    "import matplotlib.pyplot as plt"
   ]
  },
  {
   "cell_type": "code",
   "execution_count": 4,
   "metadata": {},
   "outputs": [],
   "source": [
    "sales_data = pd.read_csv('sales_data_sample.csv', encoding='iso-8859-1')\n",
    "\n",
    "sales_data.to_excel(\"sales_data.xlsx\")\n",
    "\n"
   ]
  },
  {
   "cell_type": "code",
   "execution_count": 5,
   "metadata": {},
   "outputs": [
    {
     "data": {
      "text/plain": [
       "0             2125557818\n",
       "1             26.47.1555\n",
       "2       +33 1 46 62 7555\n",
       "3             6265557265\n",
       "4             6505551386\n",
       "              ...       \n",
       "2818      (91) 555 94 44\n",
       "2819          981-443655\n",
       "2820      (91) 555 94 44\n",
       "2821          61.77.6555\n",
       "2822          6175559555\n",
       "Name: PHONE, Length: 2823, dtype: object"
      ]
     },
     "execution_count": 5,
     "metadata": {},
     "output_type": "execute_result"
    }
   ],
   "source": [
    "sales_datas= sales_data['PHONE'].replace('+', '')\n",
    "sales_datas\n"
   ]
  }
 ],
 "metadata": {
  "kernelspec": {
   "display_name": "Python 3",
   "language": "python",
   "name": "python3"
  },
  "language_info": {
   "codemirror_mode": {
    "name": "ipython",
    "version": 3
   },
   "file_extension": ".py",
   "mimetype": "text/x-python",
   "name": "python",
   "nbconvert_exporter": "python",
   "pygments_lexer": "ipython3",
   "version": "3.11.8"
  }
 },
 "nbformat": 4,
 "nbformat_minor": 2
}
